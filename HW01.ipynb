{
 "cells": [
  {
   "cell_type": "markdown",
   "metadata": {},
   "source": [
    "# HW01\n",
    "\n",
    "## 這個作業主要的目的是希望同學們了解善用模組跟套件可以很容易取得問題的快速解。"
   ]
  },
  {
   "cell_type": "markdown",
   "metadata": {},
   "source": [
    "## Q1. 請使用 python 讀入 Nasdaq 公司資訊！\n",
    "\n",
    "提示：\n",
    "1. 請先找到 Nasdaq Company List 的 .csv 檔的網址。\n",
    "2. 使用 pandas 套件的 read_csv 函式來讀入 .csv 檔。"
   ]
  },
  {
   "cell_type": "code",
   "execution_count": 1,
   "metadata": {
    "collapsed": true
   },
   "outputs": [],
   "source": [
    "import pandas as pd"
   ]
  },
  {
   "cell_type": "code",
   "execution_count": 3,
   "metadata": {
    "collapsed": true
   },
   "outputs": [],
   "source": [
    "url = \"http://www.nasdaq.com/screening/companies-by-industry.aspx?exchange=NASDAQ&render=download\"\n",
    "df = pd.read_csv(url)"
   ]
  },
  {
   "cell_type": "code",
   "execution_count": 4,
   "metadata": {},
   "outputs": [
    {
     "data": {
      "text/html": [
       "<div>\n",
       "<style>\n",
       "    .dataframe thead tr:only-child th {\n",
       "        text-align: right;\n",
       "    }\n",
       "\n",
       "    .dataframe thead th {\n",
       "        text-align: left;\n",
       "    }\n",
       "\n",
       "    .dataframe tbody tr th {\n",
       "        vertical-align: top;\n",
       "    }\n",
       "</style>\n",
       "<table border=\"1\" class=\"dataframe\">\n",
       "  <thead>\n",
       "    <tr style=\"text-align: right;\">\n",
       "      <th></th>\n",
       "      <th>Symbol</th>\n",
       "      <th>Name</th>\n",
       "      <th>LastSale</th>\n",
       "      <th>MarketCap</th>\n",
       "      <th>ADR TSO</th>\n",
       "      <th>IPOyear</th>\n",
       "      <th>Sector</th>\n",
       "      <th>Industry</th>\n",
       "      <th>Summary Quote</th>\n",
       "      <th>Unnamed: 9</th>\n",
       "    </tr>\n",
       "  </thead>\n",
       "  <tbody>\n",
       "    <tr>\n",
       "      <th>0</th>\n",
       "      <td>PIH</td>\n",
       "      <td>1347 Property Insurance Holdings, Inc.</td>\n",
       "      <td>7.0863</td>\n",
       "      <td>4.221143e+07</td>\n",
       "      <td>n/a</td>\n",
       "      <td>2014</td>\n",
       "      <td>Finance</td>\n",
       "      <td>Property-Casualty Insurers</td>\n",
       "      <td>http://www.nasdaq.com/symbol/pih</td>\n",
       "      <td>NaN</td>\n",
       "    </tr>\n",
       "    <tr>\n",
       "      <th>1</th>\n",
       "      <td>TURN</td>\n",
       "      <td>180 Degree Capital Corp.</td>\n",
       "      <td>1.88</td>\n",
       "      <td>5.850854e+07</td>\n",
       "      <td>n/a</td>\n",
       "      <td>n/a</td>\n",
       "      <td>Finance</td>\n",
       "      <td>Finance/Investors Services</td>\n",
       "      <td>http://www.nasdaq.com/symbol/turn</td>\n",
       "      <td>NaN</td>\n",
       "    </tr>\n",
       "    <tr>\n",
       "      <th>2</th>\n",
       "      <td>FLWS</td>\n",
       "      <td>1-800 FLOWERS.COM, Inc.</td>\n",
       "      <td>9.3</td>\n",
       "      <td>6.033741e+08</td>\n",
       "      <td>n/a</td>\n",
       "      <td>1999</td>\n",
       "      <td>Consumer Services</td>\n",
       "      <td>Other Specialty Stores</td>\n",
       "      <td>http://www.nasdaq.com/symbol/flws</td>\n",
       "      <td>NaN</td>\n",
       "    </tr>\n",
       "    <tr>\n",
       "      <th>3</th>\n",
       "      <td>FCCY</td>\n",
       "      <td>1st Constitution Bancorp (NJ)</td>\n",
       "      <td>17.85</td>\n",
       "      <td>1.440365e+08</td>\n",
       "      <td>n/a</td>\n",
       "      <td>n/a</td>\n",
       "      <td>Finance</td>\n",
       "      <td>Savings Institutions</td>\n",
       "      <td>http://www.nasdaq.com/symbol/fccy</td>\n",
       "      <td>NaN</td>\n",
       "    </tr>\n",
       "    <tr>\n",
       "      <th>4</th>\n",
       "      <td>SRCE</td>\n",
       "      <td>1st Source Corporation</td>\n",
       "      <td>50.73</td>\n",
       "      <td>1.315740e+09</td>\n",
       "      <td>n/a</td>\n",
       "      <td>n/a</td>\n",
       "      <td>Finance</td>\n",
       "      <td>Major Banks</td>\n",
       "      <td>http://www.nasdaq.com/symbol/srce</td>\n",
       "      <td>NaN</td>\n",
       "    </tr>\n",
       "  </tbody>\n",
       "</table>\n",
       "</div>"
      ],
      "text/plain": [
       "  Symbol                                    Name LastSale     MarketCap  \\\n",
       "0    PIH  1347 Property Insurance Holdings, Inc.   7.0863  4.221143e+07   \n",
       "1   TURN                180 Degree Capital Corp.     1.88  5.850854e+07   \n",
       "2   FLWS                 1-800 FLOWERS.COM, Inc.      9.3  6.033741e+08   \n",
       "3   FCCY           1st Constitution Bancorp (NJ)    17.85  1.440365e+08   \n",
       "4   SRCE                  1st Source Corporation    50.73  1.315740e+09   \n",
       "\n",
       "  ADR TSO IPOyear             Sector                    Industry  \\\n",
       "0     n/a    2014            Finance  Property-Casualty Insurers   \n",
       "1     n/a     n/a            Finance  Finance/Investors Services   \n",
       "2     n/a    1999  Consumer Services      Other Specialty Stores   \n",
       "3     n/a     n/a            Finance        Savings Institutions   \n",
       "4     n/a     n/a            Finance                 Major Banks   \n",
       "\n",
       "                       Summary Quote  Unnamed: 9  \n",
       "0   http://www.nasdaq.com/symbol/pih         NaN  \n",
       "1  http://www.nasdaq.com/symbol/turn         NaN  \n",
       "2  http://www.nasdaq.com/symbol/flws         NaN  \n",
       "3  http://www.nasdaq.com/symbol/fccy         NaN  \n",
       "4  http://www.nasdaq.com/symbol/srce         NaN  "
      ]
     },
     "execution_count": 4,
     "metadata": {},
     "output_type": "execute_result"
    }
   ],
   "source": [
    "df.head()"
   ]
  },
  {
   "cell_type": "markdown",
   "metadata": {},
   "source": [
    "## Q2. 請使用 python 畫中山大學管理學院周邊地圖！\n",
    "\n",
    "提示：\n",
    "\n",
    "1. 使用 geocoder 套件來找出地址的 GPS 座標。\n",
    "2. 使用 folium 套件來顯示地圖。"
   ]
  },
  {
   "cell_type": "code",
   "execution_count": 5,
   "metadata": {
    "collapsed": true
   },
   "outputs": [],
   "source": [
    "import folium"
   ]
  },
  {
   "cell_type": "code",
   "execution_count": 6,
   "metadata": {
    "collapsed": true
   },
   "outputs": [],
   "source": [
    "import geocoder"
   ]
  },
  {
   "cell_type": "code",
   "execution_count": 7,
   "metadata": {
    "collapsed": true
   },
   "outputs": [],
   "source": [
    "location = geocoder.google('中山大學管理學院').latlng"
   ]
  },
  {
   "cell_type": "code",
   "execution_count": 8,
   "metadata": {},
   "outputs": [
    {
     "data": {
      "text/plain": [
       "[22.627447, 120.265274]"
      ]
     },
     "execution_count": 8,
     "metadata": {},
     "output_type": "execute_result"
    }
   ],
   "source": [
    "location"
   ]
  },
  {
   "cell_type": "code",
   "execution_count": 12,
   "metadata": {},
   "outputs": [
    {
     "data": {
      "text/html": [
       "<div style=\"width:100%;\"><div style=\"position:relative;width:100%;height:0;padding-bottom:60%;\"><iframe src=\"data:text/html;charset=utf-8;base64,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\" style=\"position:absolute;width:100%;height:100%;left:0;top:0;border:none !important;\" allowfullscreen webkitallowfullscreen mozallowfullscreen></iframe></div></div>"
      ],
      "text/plain": [
       "<folium.folium.Map at 0x26c6011c7f0>"
      ]
     },
     "execution_count": 12,
     "metadata": {},
     "output_type": "execute_result"
    }
   ],
   "source": [
    "folium.Map(location=location,zoom_start=16)"
   ]
  },
  {
   "cell_type": "markdown",
   "metadata": {},
   "source": [
    "## Q3. 請使用 python 將新聞中可能的關鍵詞萃取出來！ (Bonus)\n",
    "\n",
    "提示：\n",
    "\n",
    "1. 使用老師提供的 util.py 來擷取鉅亨網上特定新聞的內容。\n",
    "2. 使用 jieba 套件來擷取關鍵詞。"
   ]
  },
  {
   "cell_type": "code",
   "execution_count": 1,
   "metadata": {
    "collapsed": true
   },
   "outputs": [],
   "source": [
    "import util"
   ]
  },
  {
   "cell_type": "code",
   "execution_count": 2,
   "metadata": {
    "collapsed": true
   },
   "outputs": [],
   "source": [
    "newstext= util.get_news_article(\"https://news.cnyes.com/news/id/3957192\")"
   ]
  },
  {
   "cell_type": "code",
   "execution_count": 3,
   "metadata": {},
   "outputs": [
    {
     "data": {
      "text/plain": [
       "'文／早安健康編輯部\\n怎麼吃才能降血脂？除了什麼食物該吃、什麼食物要適量吃之外，「吃」的行為本身也很重要，也就是飲食習慣同樣會影響血脂的高低。以下這 5 種飲食方式，慢慢調整讓你血脂飆高的不良習慣，改變吃下去的食物種類與份量，你會發現自己的身體，可以這麼簡單就產生驚人的改變：\\n1. 飯前一杯水\\n不僅是餐前湯或蔬果汁，就算只是一杯白開水，也有助於減少吃進的食物量。美國維吉尼亞理工大學研究顯示，過重的成年人在餐前飲用 450cc 白開水，用餐時吃進的熱量就會變少；12 週後，與沒喝水的受試者相比，體重多減輕 44％。研究人員認為，餐前喝水既能降低饑餓感，也能增加飽足感。\\n不過， 台北醫學大學附設醫院大腸直腸外科主任郭立人說，大量液體會沖淡胃酸，降低消化能力；固體食物也有可能吸水而膨脹，刺激更多胃酸分泌，導致胃酸上衝到食道。因此，用餐前喝茶、喝水、喝湯不要多於 500cc。\\n2. 吃麻煩一點的食物\\n有帶殼的蝦就不要吃已經剝好的，其他像菱角、花生、瓜子都一樣；需要剝皮的例如柳丁與奇異果也比較好。這個說法的用意是花一點時間才可吃下去的食物，無形中可以減少吃下去的量，或是衝動飲食導致吃太多。\\n3. 菜餚不要放滿餐桌\\n家庭主婦（夫）喜歡將做好的菜餚全部放在餐桌上以表豐盛之意，但卻會因此增加過食的機會。只要拿出足夠份量的菜餚就好，其他放在廚房、爐子上，真的吃不夠再拿就好。\\n4. 少量多菜色比單品料理好\\n日本醫學博士島野雄實指出，許多人為了圖方便常吃「單品料理」，例如一份咖哩飯、一碗拉麵、一份漢堡、一盤義大利麵等，仔細看看醣類食材比例往往偏高，有些被歸類為速食，也是\\n高油高熱量。事實上這樣吃既不健康，只求填飽肚子也不算是「吃美食」。他建議應該多選菜色多、每種菜量少的套餐類食物，或是可以自己在家做，就算部份菜色是現成的、甚至超商買的食物都可以。少量多菜色，細嚼慢嚥就容易飽足，飲食也可更均衡。\\n5. 先吃最不想吃的食物\\n南韓醫學博士朴敏洙認為，造成肥胖等危害健康的飲食行為，跟我們嗜吃味道較強的食物，導致「味覺中毒」有關。味覺中毒像成癮一樣，讓我們不自覺一直想吃夠甜、夠鹹、夠油等等較重口味食物，自然容易危害健康。\\n用餐時的練習：用餐時，先吃最不想吃（往往就是味道較淡、口感比較不好）的食物，最後再吃想吃的食物，或味道較重的食物。\\n功用：培養「延遲享樂的能力」，漸漸地就可不再那麼執著要吃高糖、高鹽、高油食物，飲食也就更健康了。\\n平時的練習： 喜歡甜味的人，在口中含糖水或三合一咖啡；喜歡鹹味的人，在口中含鹽水，以此類推。含在口中至少三分鐘以上，同時用鼻子呼吸。接著吐出口中的飲料，將白開水含在口中至少三十秒以上。重覆以上含飲料練習至少三回。\\n功用：留在口中的味覺刺激會持續讓我們想要吃這樣的味道。為了要降低味道的影響力，口腔內要保持「中立」，最好的方法就是水。這也是心理治療中的「脫感療法」。\\n來源：《早安健康》 2017 年 11 月\\n更多精彩內容請至\\xa0《早安健康》\\n'"
      ]
     },
     "execution_count": 3,
     "metadata": {},
     "output_type": "execute_result"
    }
   ],
   "source": [
    "newstext"
   ]
  }
 ],
 "metadata": {
  "kernelspec": {
   "display_name": "Python 3",
   "language": "python",
   "name": "python3"
  },
  "language_info": {
   "codemirror_mode": {
    "name": "ipython",
    "version": 3
   },
   "file_extension": ".py",
   "mimetype": "text/x-python",
   "name": "python",
   "nbconvert_exporter": "python",
   "pygments_lexer": "ipython3",
   "version": "3.6.2"
  }
 },
 "nbformat": 4,
 "nbformat_minor": 2
}
