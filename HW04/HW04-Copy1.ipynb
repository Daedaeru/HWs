{
 "cells": [
  {
   "cell_type": "markdown",
   "metadata": {},
   "source": [
    "# Q1. 寫一個九九乘法表！"
   ]
  },
  {
   "cell_type": "code",
   "execution_count": 1,
   "metadata": {},
   "outputs": [
    {
     "name": "stdout",
     "output_type": "stream",
     "text": [
      "\n",
      "1x1= 1    2x1= 2    3x1= 3    \n",
      "1x2= 2    2x2= 4    3x2= 6    \n",
      "1x3= 3    2x3= 6    3x3= 9    \n",
      "1x4= 4    2x4= 8    3x4=12    \n",
      "1x5= 5    2x5=10    3x5=15    \n",
      "1x6= 6    2x6=12    3x6=18    \n",
      "1x7= 7    2x7=14    3x7=21    \n",
      "1x8= 8    2x8=16    3x8=24    \n",
      "1x9= 9    2x9=18    3x9=27    \n",
      "\n",
      "4x1= 4    5x1= 5    6x1= 6    \n",
      "4x2= 8    5x2=10    6x2=12    \n",
      "4x3=12    5x3=15    6x3=18    \n",
      "4x4=16    5x4=20    6x4=24    \n",
      "4x5=20    5x5=25    6x5=30    \n",
      "4x6=24    5x6=30    6x6=36    \n",
      "4x7=28    5x7=35    6x7=42    \n",
      "4x8=32    5x8=40    6x8=48    \n",
      "4x9=36    5x9=45    6x9=54    \n",
      "\n",
      "7x1= 7    8x1= 8    9x1= 9    \n",
      "7x2=14    8x2=16    9x2=18    \n",
      "7x3=21    8x3=24    9x3=27    \n",
      "7x4=28    8x4=32    9x4=36    \n",
      "7x5=35    8x5=40    9x5=45    \n",
      "7x6=42    8x6=48    9x6=54    \n",
      "7x7=49    8x7=56    9x7=63    \n",
      "7x8=56    8x8=64    9x8=72    \n",
      "7x9=63    8x9=72    9x9=81    \n"
     ]
    }
   ],
   "source": [
    "def multiplication_table(m, n):\n",
    "    print(\"\")\n",
    "    for j in range(1,10):\n",
    "        for i in range(m,n+1):\n",
    "            print(\"%dx%d=%2d\" % (i,j,i*j),end=\"    \")\n",
    "        print(\"\")\n",
    "\n",
    "multiplication_table(1, 3)\n",
    "multiplication_table(4, 6)\n",
    "multiplication_table(7, 9)\n",
    "        "
   ]
  },
  {
   "cell_type": "markdown",
   "metadata": {},
   "source": [
    "# Q2. 寫一個可以產生金字塔的函式！"
   ]
  },
  {
   "cell_type": "code",
   "execution_count": 2,
   "metadata": {
    "scrolled": true
   },
   "outputs": [
    {
     "name": "stdout",
     "output_type": "stream",
     "text": [
      "         *\n",
      "        ***\n",
      "       *****\n",
      "      *******\n",
      "     *********\n",
      "    ***********\n",
      "   *************\n",
      "  ***************\n",
      " *****************\n",
      "*******************\n"
     ]
    }
   ],
   "source": [
    "def pyramid(n):\n",
    "    for i in range(1,n+1):\n",
    "        print(' '*(n-i) + '*'*(2*i-1))\n",
    "\n",
    "pyramid(10)"
   ]
  },
  {
   "cell_type": "code",
   "execution_count": 3,
   "metadata": {
    "collapsed": true
   },
   "outputs": [],
   "source": [
    "import sys"
   ]
  },
  {
   "cell_type": "code",
   "execution_count": 4,
   "metadata": {
    "collapsed": true
   },
   "outputs": [],
   "source": [
    "sys.path.append('C:/Users/lenovo/Desktop/程式交易/python程式作業/HW04')"
   ]
  },
  {
   "cell_type": "code",
   "execution_count": 5,
   "metadata": {
    "collapsed": true
   },
   "outputs": [],
   "source": [
    "import HW04"
   ]
  },
  {
   "cell_type": "code",
   "execution_count": 6,
   "metadata": {},
   "outputs": [
    {
     "name": "stdout",
     "output_type": "stream",
     "text": [
      "\n",
      "1*1= 1    2*1= 2    3*1= 3    \n",
      "1*2= 2    2*2= 4    3*2= 6    \n",
      "1*3= 3    2*3= 6    3*3= 9    \n",
      "1*4= 4    2*4= 8    3*4=12    \n",
      "1*5= 5    2*5=10    3*5=15    \n",
      "1*6= 6    2*6=12    3*6=18    \n",
      "1*7= 7    2*7=14    3*7=21    \n",
      "1*8= 8    2*8=16    3*8=24    \n",
      "1*9= 9    2*9=18    3*9=27    \n",
      "\n",
      "4*1= 4    5*1= 5    6*1= 6    \n",
      "4*2= 8    5*2=10    6*2=12    \n",
      "4*3=12    5*3=15    6*3=18    \n",
      "4*4=16    5*4=20    6*4=24    \n",
      "4*5=20    5*5=25    6*5=30    \n",
      "4*6=24    5*6=30    6*6=36    \n",
      "4*7=28    5*7=35    6*7=42    \n",
      "4*8=32    5*8=40    6*8=48    \n",
      "4*9=36    5*9=45    6*9=54    \n",
      "\n",
      "7*1= 7    8*1= 8    9*1= 9    \n",
      "7*2=14    8*2=16    9*2=18    \n",
      "7*3=21    8*3=24    9*3=27    \n",
      "7*4=28    8*4=32    9*4=36    \n",
      "7*5=35    8*5=40    9*5=45    \n",
      "7*6=42    8*6=48    9*6=54    \n",
      "7*7=49    8*7=56    9*7=63    \n",
      "7*8=56    8*8=64    9*8=72    \n",
      "7*9=63    8*9=72    9*9=81    \n"
     ]
    }
   ],
   "source": [
    "HW04.multiplication_table(1, 3)\n",
    "HW04.multiplication_table(4, 6)\n",
    "HW04.multiplication_table(7, 9)"
   ]
  },
  {
   "cell_type": "code",
   "execution_count": 7,
   "metadata": {},
   "outputs": [
    {
     "name": "stdout",
     "output_type": "stream",
     "text": [
      "    =\n",
      "   ===\n",
      "  =====\n",
      " =======\n",
      "=========\n"
     ]
    }
   ],
   "source": [
    "HW04.pyramid(5)"
   ]
  }
 ],
 "metadata": {
  "kernelspec": {
   "display_name": "Python 3",
   "language": "python",
   "name": "python3"
  },
  "language_info": {
   "codemirror_mode": {
    "name": "ipython",
    "version": 3
   },
   "file_extension": ".py",
   "mimetype": "text/x-python",
   "name": "python",
   "nbconvert_exporter": "python",
   "pygments_lexer": "ipython3",
   "version": "3.6.2"
  }
 },
 "nbformat": 4,
 "nbformat_minor": 2
}
